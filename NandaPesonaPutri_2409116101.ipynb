{
  "nbformat": 4,
  "nbformat_minor": 0,
  "metadata": {
    "colab": {
      "provenance": []
    },
    "kernelspec": {
      "name": "python3",
      "display_name": "Python 3"
    },
    "language_info": {
      "name": "python"
    }
  },
  "cells": [
    {
      "cell_type": "markdown",
      "source": [
        "# **BUSINESS UNDERSTANDING**"
      ],
      "metadata": {
        "id": "3X50u2L07eSO"
      }
    },
    {
      "cell_type": "markdown",
      "source": [
        "## **Business Objective**"
      ],
      "metadata": {
        "id": "gW4P5t6B7pd6"
      }
    },
    {
      "cell_type": "markdown",
      "source": [
        "Tujuan utama dari dataset yang saya pilih adalah untuk mengoptimalkan proses pengiriman dan meningkatkan kepuasan pelanggan, sekaligus meningkatkan efisiensi operasional dan keuntungan perusahaan. Dengan menganalisis data pesanan, waktu pengiriman, jenis makanan, perusahaan dapat mengidentifikasi area-area yang perlu perbaikan, seperti mempercepat waktu pengiriman, mengoptimalkan rute pengiriman, dan menawarkan promosi atau harga yang lebih sesuai dengan permintaan."
      ],
      "metadata": {
        "id": "HwjP40pT7xeM"
      }
    },
    {
      "cell_type": "markdown",
      "source": [
        "## **Assess Situation**"
      ],
      "metadata": {
        "id": "6ReN8t1-72L9"
      }
    },
    {
      "cell_type": "markdown",
      "source": [
        " Situasi bisnis yang mendasari analisis ini andalah isu dalam bisnis pengiriman makanan seperti persaingan ketat, efisiensi operasional, dan kepuasan pelanggan. Dengan menganalisis preferensi pelanggan dan pola pesanan, bisnis dapat menyesuaikan strategi pemasaran serta meningkatkan layanan agar tetap kompetitif di tengah maraknya platform pengiriman makanan. Selain itu, data pengiriman dapat digunakan untuk mengatasi isu keterlambatan dan optimasi rute, yang sering menjadi faktor utama dalam kepuasan pelanggan."
      ],
      "metadata": {
        "id": "twYL8bOq7lst"
      }
    },
    {
      "cell_type": "markdown",
      "source": [
        "## **Data Mining Goals**"
      ],
      "metadata": {
        "id": "dmMcoSlf8-lS"
      }
    },
    {
      "cell_type": "markdown",
      "source": [
        "meningkatkan efisiensi operasional dan kepuasan pelanggan melalui prediksi waktu pengiriman, segmentasi pelanggan, analisis tren permintaan, dan optimasi rute pengiriman. Selain itu, perusahaan bertujuan untuk menilai efektivitas promosi, dan mengidentifikasi makanan terlaris serta margin keuntungan untuk merencanakan strategi harga dan menu yang lebih baik. Semua tujuan ini mendukung keputusan berbasis data untuk meningkatkan keuntungan dan pengalaman pelanggan."
      ],
      "metadata": {
        "id": "hXEvI6_69JRO"
      }
    },
    {
      "cell_type": "markdown",
      "source": [
        "## **Project Plan**"
      ],
      "metadata": {
        "id": "kgf0P9omFCRa"
      }
    },
    {
      "cell_type": "markdown",
      "source": [
        "Tahapan proyek dimulai dengan memahami struktur data, termasuk data data yang ada di dalamnya, seperti id resto, pesanan, serta rating dari pelanggan. Selanjutnya, eksplorasi data dilakukan dengan melihat distribusi pesanan berdasarkan hari, jam sibuk, restoran yang paling sering dipesan, metode pembayaran yang banyak digunakan, serta rata-rata harga pesanan."
      ],
      "metadata": {
        "id": "IfPTO6DaFQbx"
      }
    }
  ]
}